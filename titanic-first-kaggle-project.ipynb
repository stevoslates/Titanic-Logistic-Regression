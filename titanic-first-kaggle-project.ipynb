{
 "cells": [
  {
   "cell_type": "code",
   "execution_count": 1,
   "id": "a1e6bea4",
   "metadata": {
    "_cell_guid": "b1076dfc-b9ad-4769-8c92-a6c4dae69d19",
    "_uuid": "8f2839f25d086af736a60e9eeb907d3b93b6e0e5",
    "execution": {
     "iopub.execute_input": "2021-12-29T21:14:12.524056Z",
     "iopub.status.busy": "2021-12-29T21:14:12.523416Z",
     "iopub.status.idle": "2021-12-29T21:14:13.660772Z",
     "shell.execute_reply": "2021-12-29T21:14:13.659905Z",
     "shell.execute_reply.started": "2021-12-29T21:12:53.371766Z"
    },
    "papermill": {
     "duration": 1.180734,
     "end_time": "2021-12-29T21:14:13.660986",
     "exception": false,
     "start_time": "2021-12-29T21:14:12.480252",
     "status": "completed"
    },
    "tags": []
   },
   "outputs": [
    {
     "name": "stdout",
     "output_type": "stream",
     "text": [
      "/kaggle/input/titanic/train.csv\n",
      "/kaggle/input/titanic/test.csv\n",
      "/kaggle/input/titanic/gender_submission.csv\n"
     ]
    }
   ],
   "source": [
    "# This Python 3 environment comes with many helpful analytics libraries installed\n",
    "# It is defined by the kaggle/python Docker image: https://github.com/kaggle/docker-python\n",
    "# For example, here's several helpful packages to load\n",
    "\n",
    "import numpy as np # linear algebra\n",
    "import pandas as pd # data processing, CSV file I/O (e.g. pd.read_csv)\n",
    "import matplotlib.pyplot as plt\n",
    "import seaborn as sns\n",
    "# Input data files are available in the read-only \"../input/\" directory\n",
    "# For example, running this (by clicking run or pressing Shift+Enter) will list all files under the input directory\n",
    "\n",
    "import os\n",
    "for dirname, _, filenames in os.walk('/kaggle/input'):\n",
    "    for filename in filenames:\n",
    "        print(os.path.join(dirname, filename))\n",
    "\n",
    "# You can write up to 20GB to the current directory (/kaggle/working/) that gets preserved as output when you create a version using \"Save & Run All\" \n",
    "# You can also write temporary files to /kaggle/temp/, but they won't be saved outside of the current session"
   ]
  },
  {
   "cell_type": "markdown",
   "id": "f17a94a6",
   "metadata": {
    "papermill": {
     "duration": 0.033394,
     "end_time": "2021-12-29T21:14:13.729195",
     "exception": false,
     "start_time": "2021-12-29T21:14:13.695801",
     "status": "completed"
    },
    "tags": []
   },
   "source": [
    "# **1. Reading In and Understanding the Data**"
   ]
  },
  {
   "cell_type": "markdown",
   "id": "3722cb16",
   "metadata": {
    "papermill": {
     "duration": 0.033192,
     "end_time": "2021-12-29T21:14:13.796040",
     "exception": false,
     "start_time": "2021-12-29T21:14:13.762848",
     "status": "completed"
    },
    "tags": []
   },
   "source": [
    "**Here we get an understanding of the types of data we are dealing with alongside seeing which attributes contain the\n",
    "most null values in our dataset. Seeing these null values early on help us begin to think about the feature egineering process\n",
    "as we may wantt to fill these null values with the mean or median, or totally disregard the attribute entirely.**"
   ]
  },
  {
   "cell_type": "code",
   "execution_count": 2,
   "id": "4c3bd1d8",
   "metadata": {
    "execution": {
     "iopub.execute_input": "2021-12-29T21:14:13.870966Z",
     "iopub.status.busy": "2021-12-29T21:14:13.870220Z",
     "iopub.status.idle": "2021-12-29T21:14:13.903095Z",
     "shell.execute_reply": "2021-12-29T21:14:13.902485Z",
     "shell.execute_reply.started": "2021-12-29T21:12:53.381800Z"
    },
    "papermill": {
     "duration": 0.072269,
     "end_time": "2021-12-29T21:14:13.903255",
     "exception": false,
     "start_time": "2021-12-29T21:14:13.830986",
     "status": "completed"
    },
    "tags": []
   },
   "outputs": [],
   "source": [
    "test = pd.read_csv('/kaggle/input/titanic/test.csv')\n",
    "train = pd.read_csv('/kaggle/input/titanic/train.csv') #loading datasets"
   ]
  },
  {
   "cell_type": "code",
   "execution_count": 3,
   "id": "4ba873fa",
   "metadata": {
    "execution": {
     "iopub.execute_input": "2021-12-29T21:14:13.997820Z",
     "iopub.status.busy": "2021-12-29T21:14:13.997056Z",
     "iopub.status.idle": "2021-12-29T21:14:14.003333Z",
     "shell.execute_reply": "2021-12-29T21:14:14.002760Z",
     "shell.execute_reply.started": "2021-12-29T21:12:53.405716Z"
    },
    "papermill": {
     "duration": 0.065844,
     "end_time": "2021-12-29T21:14:14.003548",
     "exception": false,
     "start_time": "2021-12-29T21:14:13.937704",
     "status": "completed"
    },
    "tags": []
   },
   "outputs": [
    {
     "name": "stdout",
     "output_type": "stream",
     "text": [
      "<class 'pandas.core.frame.DataFrame'>\n",
      "RangeIndex: 891 entries, 0 to 890\n",
      "Data columns (total 12 columns):\n",
      " #   Column       Non-Null Count  Dtype  \n",
      "---  ------       --------------  -----  \n",
      " 0   PassengerId  891 non-null    int64  \n",
      " 1   Survived     891 non-null    int64  \n",
      " 2   Pclass       891 non-null    int64  \n",
      " 3   Name         891 non-null    object \n",
      " 4   Sex          891 non-null    object \n",
      " 5   Age          714 non-null    float64\n",
      " 6   SibSp        891 non-null    int64  \n",
      " 7   Parch        891 non-null    int64  \n",
      " 8   Ticket       891 non-null    object \n",
      " 9   Fare         891 non-null    float64\n",
      " 10  Cabin        204 non-null    object \n",
      " 11  Embarked     889 non-null    object \n",
      "dtypes: float64(2), int64(5), object(5)\n",
      "memory usage: 83.7+ KB\n"
     ]
    }
   ],
   "source": [
    "train.info()"
   ]
  },
  {
   "cell_type": "code",
   "execution_count": 4,
   "id": "a9143db2",
   "metadata": {
    "execution": {
     "iopub.execute_input": "2021-12-29T21:14:14.077684Z",
     "iopub.status.busy": "2021-12-29T21:14:14.077037Z",
     "iopub.status.idle": "2021-12-29T21:14:14.117674Z",
     "shell.execute_reply": "2021-12-29T21:14:14.118166Z",
     "shell.execute_reply.started": "2021-12-29T21:12:53.441876Z"
    },
    "papermill": {
     "duration": 0.078549,
     "end_time": "2021-12-29T21:14:14.118377",
     "exception": false,
     "start_time": "2021-12-29T21:14:14.039828",
     "status": "completed"
    },
    "tags": []
   },
   "outputs": [
    {
     "data": {
      "text/html": [
       "<div>\n",
       "<style scoped>\n",
       "    .dataframe tbody tr th:only-of-type {\n",
       "        vertical-align: middle;\n",
       "    }\n",
       "\n",
       "    .dataframe tbody tr th {\n",
       "        vertical-align: top;\n",
       "    }\n",
       "\n",
       "    .dataframe thead th {\n",
       "        text-align: right;\n",
       "    }\n",
       "</style>\n",
       "<table border=\"1\" class=\"dataframe\">\n",
       "  <thead>\n",
       "    <tr style=\"text-align: right;\">\n",
       "      <th></th>\n",
       "      <th>PassengerId</th>\n",
       "      <th>Survived</th>\n",
       "      <th>Pclass</th>\n",
       "      <th>Age</th>\n",
       "      <th>SibSp</th>\n",
       "      <th>Parch</th>\n",
       "      <th>Fare</th>\n",
       "    </tr>\n",
       "  </thead>\n",
       "  <tbody>\n",
       "    <tr>\n",
       "      <th>count</th>\n",
       "      <td>891.000000</td>\n",
       "      <td>891.000000</td>\n",
       "      <td>891.000000</td>\n",
       "      <td>714.000000</td>\n",
       "      <td>891.000000</td>\n",
       "      <td>891.000000</td>\n",
       "      <td>891.000000</td>\n",
       "    </tr>\n",
       "    <tr>\n",
       "      <th>mean</th>\n",
       "      <td>446.000000</td>\n",
       "      <td>0.383838</td>\n",
       "      <td>2.308642</td>\n",
       "      <td>29.699118</td>\n",
       "      <td>0.523008</td>\n",
       "      <td>0.381594</td>\n",
       "      <td>32.204208</td>\n",
       "    </tr>\n",
       "    <tr>\n",
       "      <th>std</th>\n",
       "      <td>257.353842</td>\n",
       "      <td>0.486592</td>\n",
       "      <td>0.836071</td>\n",
       "      <td>14.526497</td>\n",
       "      <td>1.102743</td>\n",
       "      <td>0.806057</td>\n",
       "      <td>49.693429</td>\n",
       "    </tr>\n",
       "    <tr>\n",
       "      <th>min</th>\n",
       "      <td>1.000000</td>\n",
       "      <td>0.000000</td>\n",
       "      <td>1.000000</td>\n",
       "      <td>0.420000</td>\n",
       "      <td>0.000000</td>\n",
       "      <td>0.000000</td>\n",
       "      <td>0.000000</td>\n",
       "    </tr>\n",
       "    <tr>\n",
       "      <th>25%</th>\n",
       "      <td>223.500000</td>\n",
       "      <td>0.000000</td>\n",
       "      <td>2.000000</td>\n",
       "      <td>20.125000</td>\n",
       "      <td>0.000000</td>\n",
       "      <td>0.000000</td>\n",
       "      <td>7.910400</td>\n",
       "    </tr>\n",
       "    <tr>\n",
       "      <th>50%</th>\n",
       "      <td>446.000000</td>\n",
       "      <td>0.000000</td>\n",
       "      <td>3.000000</td>\n",
       "      <td>28.000000</td>\n",
       "      <td>0.000000</td>\n",
       "      <td>0.000000</td>\n",
       "      <td>14.454200</td>\n",
       "    </tr>\n",
       "    <tr>\n",
       "      <th>75%</th>\n",
       "      <td>668.500000</td>\n",
       "      <td>1.000000</td>\n",
       "      <td>3.000000</td>\n",
       "      <td>38.000000</td>\n",
       "      <td>1.000000</td>\n",
       "      <td>0.000000</td>\n",
       "      <td>31.000000</td>\n",
       "    </tr>\n",
       "    <tr>\n",
       "      <th>max</th>\n",
       "      <td>891.000000</td>\n",
       "      <td>1.000000</td>\n",
       "      <td>3.000000</td>\n",
       "      <td>80.000000</td>\n",
       "      <td>8.000000</td>\n",
       "      <td>6.000000</td>\n",
       "      <td>512.329200</td>\n",
       "    </tr>\n",
       "  </tbody>\n",
       "</table>\n",
       "</div>"
      ],
      "text/plain": [
       "       PassengerId    Survived      Pclass         Age       SibSp  \\\n",
       "count   891.000000  891.000000  891.000000  714.000000  891.000000   \n",
       "mean    446.000000    0.383838    2.308642   29.699118    0.523008   \n",
       "std     257.353842    0.486592    0.836071   14.526497    1.102743   \n",
       "min       1.000000    0.000000    1.000000    0.420000    0.000000   \n",
       "25%     223.500000    0.000000    2.000000   20.125000    0.000000   \n",
       "50%     446.000000    0.000000    3.000000   28.000000    0.000000   \n",
       "75%     668.500000    1.000000    3.000000   38.000000    1.000000   \n",
       "max     891.000000    1.000000    3.000000   80.000000    8.000000   \n",
       "\n",
       "            Parch        Fare  \n",
       "count  891.000000  891.000000  \n",
       "mean     0.381594   32.204208  \n",
       "std      0.806057   49.693429  \n",
       "min      0.000000    0.000000  \n",
       "25%      0.000000    7.910400  \n",
       "50%      0.000000   14.454200  \n",
       "75%      0.000000   31.000000  \n",
       "max      6.000000  512.329200  "
      ]
     },
     "execution_count": 4,
     "metadata": {},
     "output_type": "execute_result"
    }
   ],
   "source": [
    "train.describe()\n",
    "#note that cabin has a large amount of null values - may not be useful\n",
    "#embarked has two null values\n",
    "#age has a couple null values - (may want to see if we should fill these with the mean if normally distributed)"
   ]
  },
  {
   "cell_type": "markdown",
   "id": "01678fa5",
   "metadata": {
    "papermill": {
     "duration": 0.034197,
     "end_time": "2021-12-29T21:14:14.186880",
     "exception": false,
     "start_time": "2021-12-29T21:14:14.152683",
     "status": "completed"
    },
    "tags": []
   },
   "source": [
    "# **2. Visualising Data**"
   ]
  },
  {
   "cell_type": "markdown",
   "id": "f03d9a37",
   "metadata": {
    "papermill": {
     "duration": 0.033981,
     "end_time": "2021-12-29T21:14:14.255226",
     "exception": false,
     "start_time": "2021-12-29T21:14:14.221245",
     "status": "completed"
    },
    "tags": []
   },
   "source": [
    "**In order to visualise the data the steps I am going to take are:**\n",
    "*  Splitting Data into Numerical and Categorical Variables so I can quickly visualise each and get a quick understanding of them\n",
    "* Take a look at the correlations of the data\n",
    "* Creating more meaningful plots to understand what variables are going to be important to use in our model."
   ]
  },
  {
   "cell_type": "code",
   "execution_count": 5,
   "id": "ab65e6eb",
   "metadata": {
    "execution": {
     "iopub.execute_input": "2021-12-29T21:14:14.327427Z",
     "iopub.status.busy": "2021-12-29T21:14:14.326771Z",
     "iopub.status.idle": "2021-12-29T21:14:14.332920Z",
     "shell.execute_reply": "2021-12-29T21:14:14.333474Z",
     "shell.execute_reply.started": "2021-12-29T21:12:53.470814Z"
    },
    "papermill": {
     "duration": 0.04397,
     "end_time": "2021-12-29T21:14:14.333683",
     "exception": false,
     "start_time": "2021-12-29T21:14:14.289713",
     "status": "completed"
    },
    "tags": []
   },
   "outputs": [],
   "source": [
    "#split data into numerical and categorical for analysis\n",
    "num = train[['Age','SibSp','Parch','Fare']]\n",
    "cat = train[['Survived','Pclass','Sex']]\n",
    "#num.head()"
   ]
  },
  {
   "cell_type": "markdown",
   "id": "c2fbfcb5",
   "metadata": {
    "papermill": {
     "duration": 0.034051,
     "end_time": "2021-12-29T21:14:14.402153",
     "exception": false,
     "start_time": "2021-12-29T21:14:14.368102",
     "status": "completed"
    },
    "tags": []
   },
   "source": [
    "**Plotting distributions for numerical Data**"
   ]
  },
  {
   "cell_type": "code",
   "execution_count": 6,
   "id": "20d24b3e",
   "metadata": {
    "execution": {
     "iopub.execute_input": "2021-12-29T21:14:14.475184Z",
     "iopub.status.busy": "2021-12-29T21:14:14.474548Z",
     "iopub.status.idle": "2021-12-29T21:14:15.353236Z",
     "shell.execute_reply": "2021-12-29T21:14:15.353810Z",
     "shell.execute_reply.started": "2021-12-29T21:12:53.477954Z"
    },
    "papermill": {
     "duration": 0.916501,
     "end_time": "2021-12-29T21:14:15.354017",
     "exception": false,
     "start_time": "2021-12-29T21:14:14.437516",
     "status": "completed"
    },
    "tags": []
   },
   "outputs": [
    {
     "data": {
      "image/png": "[encoded data removed]",
      "text/plain": [
       "<Figure size 432x288 with 1 Axes>"
      ]
     },
     "metadata": {
      "needs_background": "light"
     },
     "output_type": "display_data"
    },
    {
     "data": {
      "image/png": "[encoded data removed]",
      "text/plain": [
       "<Figure size 432x288 with 1 Axes>"
      ]
     },
     "metadata": {
      "needs_background": "light"
     },
     "output_type": "display_data"
    },
    {
     "data": {
      "image/png": "[encoded data removed]",
      "text/plain": [
       "<Figure size 432x288 with 1 Axes>"
      ]
     },
     "metadata": {
      "needs_background": "light"
     },
     "output_type": "display_data"
    },
    {
     "data": {
      "image/png": "[encoded data removed]",
      "text/plain": [
       "<Figure size 432x288 with 1 Axes>"
      ]
     },
     "metadata": {
      "needs_background": "light"
     },
     "output_type": "display_data"
    }
   ],
   "source": [
    "for i in num.columns:\n",
    "    plt.hist(num[i])\n",
    "    plt.title(i)\n",
    "    plt.show()\n",
    "\n",
    "#note that fare is very logarthmic"
   ]
  },
  {
   "cell_type": "markdown",
   "id": "dd2cdd6c",
   "metadata": {
    "papermill": {
     "duration": 0.036923,
     "end_time": "2021-12-29T21:14:15.428562",
     "exception": false,
     "start_time": "2021-12-29T21:14:15.391639",
     "status": "completed"
    },
    "tags": []
   },
   "source": [
    "**Here we see that the fare variable is very logarithmically distributed - this may be important if we are using it in our model.**"
   ]
  },
  {
   "cell_type": "markdown",
   "id": "1c228861",
   "metadata": {
    "papermill": {
     "duration": 0.036765,
     "end_time": "2021-12-29T21:14:15.502483",
     "exception": false,
     "start_time": "2021-12-29T21:14:15.465718",
     "status": "completed"
    },
    "tags": []
   },
   "source": [
    "**Plotting categorical values**"
   ]
  },
  {
   "cell_type": "code",
   "execution_count": 7,
   "id": "6d4265cf",
   "metadata": {
    "execution": {
     "iopub.execute_input": "2021-12-29T21:14:15.581029Z",
     "iopub.status.busy": "2021-12-29T21:14:15.580333Z",
     "iopub.status.idle": "2021-12-29T21:14:16.081934Z",
     "shell.execute_reply": "2021-12-29T21:14:16.081231Z",
     "shell.execute_reply.started": "2021-12-29T21:12:54.040395Z"
    },
    "papermill": {
     "duration": 0.542557,
     "end_time": "2021-12-29T21:14:16.082097",
     "exception": false,
     "start_time": "2021-12-29T21:14:15.539540",
     "status": "completed"
    },
    "tags": []
   },
   "outputs": [
    {
     "data": {
      "image/png": "[encoded data removed]",
      "text/plain": [
       "<Figure size 432x288 with 1 Axes>"
      ]
     },
     "metadata": {
      "needs_background": "light"
     },
     "output_type": "display_data"
    },
    {
     "data": {
      "image/png": "[encoded data removed]",
      "text/plain": [
       "<Figure size 432x288 with 1 Axes>"
      ]
     },
     "metadata": {
      "needs_background": "light"
     },
     "output_type": "display_data"
    },
    {
     "data": {
      "image/png": "[encoded data removed]",
      "text/plain": [
       "<Figure size 432x288 with 1 Axes>"
      ]
     },
     "metadata": {
      "needs_background": "light"
     },
     "output_type": "display_data"
    }
   ],
   "source": [
    "for i in cat.columns:\n",
    "    sns.barplot(x=cat[i].value_counts().index,y=cat[i].value_counts()).set_title(i)\n",
    "    plt.show()"
   ]
  },
  {
   "cell_type": "markdown",
   "id": "874ea5f6",
   "metadata": {
    "papermill": {
     "duration": 0.038709,
     "end_time": "2021-12-29T21:14:16.159709",
     "exception": false,
     "start_time": "2021-12-29T21:14:16.121000",
     "status": "completed"
    },
    "tags": []
   },
   "source": [
    "**Now that we have a rough idea of the data, both numerical and categorical. Lets take a look at some correlations.**"
   ]
  },
  {
   "cell_type": "code",
   "execution_count": 8,
   "id": "dee48202",
   "metadata": {
    "execution": {
     "iopub.execute_input": "2021-12-29T21:14:16.242064Z",
     "iopub.status.busy": "2021-12-29T21:14:16.241374Z",
     "iopub.status.idle": "2021-12-29T21:14:16.814382Z",
     "shell.execute_reply": "2021-12-29T21:14:16.814889Z",
     "shell.execute_reply.started": "2021-12-29T21:12:54.341861Z"
    },
    "papermill": {
     "duration": 0.616277,
     "end_time": "2021-12-29T21:14:16.815098",
     "exception": false,
     "start_time": "2021-12-29T21:14:16.198821",
     "status": "completed"
    },
    "tags": []
   },
   "outputs": [
    {
     "data": {
      "text/plain": [
       "<AxesSubplot:>"
      ]
     },
     "execution_count": 8,
     "metadata": {},
     "output_type": "execute_result"
    },
    {
     "data": {
      "image/png": "[encoded data removed]",
      "text/plain": [
       "<Figure size 432x288 with 2 Axes>"
      ]
     },
     "metadata": {
      "needs_background": "light"
     },
     "output_type": "display_data"
    }
   ],
   "source": [
    "sns.heatmap(train.corr(),annot=True)"
   ]
  },
  {
   "cell_type": "code",
   "execution_count": 9,
   "id": "908f0661",
   "metadata": {
    "execution": {
     "iopub.execute_input": "2021-12-29T21:14:16.900119Z",
     "iopub.status.busy": "2021-12-29T21:14:16.899486Z",
     "iopub.status.idle": "2021-12-29T21:14:17.191047Z",
     "shell.execute_reply": "2021-12-29T21:14:17.191641Z",
     "shell.execute_reply.started": "2021-12-29T21:12:55.014154Z"
    },
    "papermill": {
     "duration": 0.335961,
     "end_time": "2021-12-29T21:14:17.191846",
     "exception": false,
     "start_time": "2021-12-29T21:14:16.855885",
     "status": "completed"
    },
    "tags": []
   },
   "outputs": [
    {
     "data": {
      "text/plain": [
       "<AxesSubplot:>"
      ]
     },
     "execution_count": 9,
     "metadata": {},
     "output_type": "execute_result"
    },
    {
     "data": {
      "image/png": "[encoded data removed]",
      "text/plain": [
       "<Figure size 432x288 with 2 Axes>"
      ]
     },
     "metadata": {
      "needs_background": "light"
     },
     "output_type": "display_data"
    }
   ],
   "source": [
    "sns.heatmap(num.corr(),annot=True)"
   ]
  },
  {
   "cell_type": "markdown",
   "id": "83409cc9",
   "metadata": {
    "papermill": {
     "duration": 0.041349,
     "end_time": "2021-12-29T21:14:17.275951",
     "exception": false,
     "start_time": "2021-12-29T21:14:17.234602",
     "status": "completed"
    },
    "tags": []
   },
   "source": [
    "**Now lets look at some interesting graphs to see what attributes we should be using in our model.**"
   ]
  },
  {
   "cell_type": "code",
   "execution_count": 10,
   "id": "8b967958",
   "metadata": {
    "execution": {
     "iopub.execute_input": "2021-12-29T21:14:17.363123Z",
     "iopub.status.busy": "2021-12-29T21:14:17.362482Z",
     "iopub.status.idle": "2021-12-29T21:14:17.906944Z",
     "shell.execute_reply": "2021-12-29T21:14:17.906336Z",
     "shell.execute_reply.started": "2021-12-29T21:12:55.234388Z"
    },
    "papermill": {
     "duration": 0.589317,
     "end_time": "2021-12-29T21:14:17.907108",
     "exception": false,
     "start_time": "2021-12-29T21:14:17.317791",
     "status": "completed"
    },
    "tags": []
   },
   "outputs": [
    {
     "data": {
      "text/plain": [
       "<AxesSubplot:xlabel='Age', ylabel='Count'>"
      ]
     },
     "execution_count": 10,
     "metadata": {},
     "output_type": "execute_result"
    },
    {
     "data": {
      "image/png": "[encoded data removed]",
      "text/plain": [
       "<Figure size 432x288 with 1 Axes>"
      ]
     },
     "metadata": {
      "needs_background": "light"
     },
     "output_type": "display_data"
    }
   ],
   "source": [
    "#Lets see what ages survived.\n",
    "sns.histplot(data=train,x='Age',hue='Survived')"
   ]
  },
  {
   "cell_type": "markdown",
   "id": "6931b97e",
   "metadata": {
    "papermill": {
     "duration": 0.044357,
     "end_time": "2021-12-29T21:14:17.995298",
     "exception": false,
     "start_time": "2021-12-29T21:14:17.950941",
     "status": "completed"
    },
    "tags": []
   },
   "source": [
    "* We can see clearly that age has an impact on your suvival rate.\n"
   ]
  },
  {
   "cell_type": "code",
   "execution_count": 11,
   "id": "ec9aab94",
   "metadata": {
    "execution": {
     "iopub.execute_input": "2021-12-29T21:14:18.088387Z",
     "iopub.status.busy": "2021-12-29T21:14:18.087720Z",
     "iopub.status.idle": "2021-12-29T21:14:18.325963Z",
     "shell.execute_reply": "2021-12-29T21:14:18.326511Z",
     "shell.execute_reply.started": "2021-12-29T21:12:55.523077Z"
    },
    "papermill": {
     "duration": 0.288016,
     "end_time": "2021-12-29T21:14:18.326721",
     "exception": false,
     "start_time": "2021-12-29T21:14:18.038705",
     "status": "completed"
    },
    "tags": []
   },
   "outputs": [
    {
     "data": {
      "text/plain": [
       "<AxesSubplot:xlabel='Survived', ylabel='Fare'>"
      ]
     },
     "execution_count": 11,
     "metadata": {},
     "output_type": "execute_result"
    },
    {
     "data": {
      "image/png": "[encoded data removed]",
      "text/plain": [
       "<Figure size 432x288 with 1 Axes>"
      ]
     },
     "metadata": {
      "needs_background": "light"
     },
     "output_type": "display_data"
    }
   ],
   "source": [
    "#sns.histplot(data=train,x='Fare',hue='Survived')\n",
    "sns.violinplot(x=\"Survived\", y=\"Fare\", data=train)"
   ]
  },
  {
   "cell_type": "markdown",
   "id": "8272444c",
   "metadata": {
    "papermill": {
     "duration": 0.043709,
     "end_time": "2021-12-29T21:14:18.414407",
     "exception": false,
     "start_time": "2021-12-29T21:14:18.370698",
     "status": "completed"
    },
    "tags": []
   },
   "source": [
    "* We can see that the majority of people wh didnt survive are those who didn't pay a high fare, we also see that purchasing a higher fare will increase your chances of survival."
   ]
  },
  {
   "cell_type": "code",
   "execution_count": 12,
   "id": "53612ded",
   "metadata": {
    "execution": {
     "iopub.execute_input": "2021-12-29T21:14:18.510107Z",
     "iopub.status.busy": "2021-12-29T21:14:18.509058Z",
     "iopub.status.idle": "2021-12-29T21:14:18.804095Z",
     "shell.execute_reply": "2021-12-29T21:14:18.803434Z",
     "shell.execute_reply.started": "2021-12-29T21:12:55.673955Z"
    },
    "papermill": {
     "duration": 0.345552,
     "end_time": "2021-12-29T21:14:18.804254",
     "exception": false,
     "start_time": "2021-12-29T21:14:18.458702",
     "status": "completed"
    },
    "tags": []
   },
   "outputs": [
    {
     "data": {
      "text/plain": [
       "<AxesSubplot:xlabel='Pclass', ylabel='Survived'>"
      ]
     },
     "execution_count": 12,
     "metadata": {},
     "output_type": "execute_result"
    },
    {
     "data": {
      "image/png": "[encoded data removed]",
      "text/plain": [
       "<Figure size 432x288 with 1 Axes>"
      ]
     },
     "metadata": {
      "needs_background": "light"
     },
     "output_type": "display_data"
    }
   ],
   "source": [
    "sns.barplot(data=train,x='Pclass',y='Survived')"
   ]
  },
  {
   "cell_type": "markdown",
   "id": "14cf4fd6",
   "metadata": {
    "papermill": {
     "duration": 0.044677,
     "end_time": "2021-12-29T21:14:18.893911",
     "exception": false,
     "start_time": "2021-12-29T21:14:18.849234",
     "status": "completed"
    },
    "tags": []
   },
   "source": [
    "* Over 60% of people in first clkass survived - whereas around only a quarter of third class survived."
   ]
  },
  {
   "cell_type": "code",
   "execution_count": 13,
   "id": "a606e59e",
   "metadata": {
    "execution": {
     "iopub.execute_input": "2021-12-29T21:14:18.988895Z",
     "iopub.status.busy": "2021-12-29T21:14:18.988154Z",
     "iopub.status.idle": "2021-12-29T21:14:19.372006Z",
     "shell.execute_reply": "2021-12-29T21:14:19.371465Z",
     "shell.execute_reply.started": "2021-12-29T21:12:55.934731Z"
    },
    "papermill": {
     "duration": 0.432137,
     "end_time": "2021-12-29T21:14:19.372144",
     "exception": false,
     "start_time": "2021-12-29T21:14:18.940007",
     "status": "completed"
    },
    "tags": []
   },
   "outputs": [
    {
     "data": {
      "text/plain": [
       "<AxesSubplot:xlabel='Pclass', ylabel='Age'>"
      ]
     },
     "execution_count": 13,
     "metadata": {},
     "output_type": "execute_result"
    },
    {
     "data": {
      "image/png": "[encoded data removed]",
      "text/plain": [
       "<Figure size 432x288 with 1 Axes>"
      ]
     },
     "metadata": {
      "needs_background": "light"
     },
     "output_type": "display_data"
    }
   ],
   "source": [
    "#looking at Class and Age\n",
    "#sns.scatterplot(data=train,x='Age',y='Pclass',hue='Survived')\n",
    "sns.stripplot(data=train, x = 'Pclass', y = 'Age', hue='Survived')"
   ]
  },
  {
   "cell_type": "markdown",
   "id": "c6b79db0",
   "metadata": {
    "papermill": {
     "duration": 0.046259,
     "end_time": "2021-12-29T21:14:19.464692",
     "exception": false,
     "start_time": "2021-12-29T21:14:19.418433",
     "status": "completed"
    },
    "tags": []
   },
   "source": [
    "* Helps us visualise the difference in chances of survival between classes\n",
    "* Also helps us see that young children have a great chnce of survival, regardless of class"
   ]
  },
  {
   "cell_type": "code",
   "execution_count": 14,
   "id": "6c05f0af",
   "metadata": {
    "execution": {
     "iopub.execute_input": "2021-12-29T21:14:19.581216Z",
     "iopub.status.busy": "2021-12-29T21:14:19.567173Z",
     "iopub.status.idle": "2021-12-29T21:14:19.919210Z",
     "shell.execute_reply": "2021-12-29T21:14:19.919713Z",
     "shell.execute_reply.started": "2021-12-29T21:12:56.283953Z"
    },
    "papermill": {
     "duration": 0.408281,
     "end_time": "2021-12-29T21:14:19.919921",
     "exception": false,
     "start_time": "2021-12-29T21:14:19.511640",
     "status": "completed"
    },
    "tags": []
   },
   "outputs": [
    {
     "data": {
      "text/plain": [
       "<AxesSubplot:xlabel='Fare', ylabel='Age'>"
      ]
     },
     "execution_count": 14,
     "metadata": {},
     "output_type": "execute_result"
    },
    {
     "data": {
      "image/png": "[encoded data removed]",
      "text/plain": [
       "<Figure size 432x288 with 1 Axes>"
      ]
     },
     "metadata": {
      "needs_background": "light"
     },
     "output_type": "display_data"
    }
   ],
   "source": [
    "sns.scatterplot(data=train, x='Fare',y='Age',hue='Survived')"
   ]
  },
  {
   "cell_type": "markdown",
   "id": "dd1921ec",
   "metadata": {
    "papermill": {
     "duration": 0.048864,
     "end_time": "2021-12-29T21:14:20.017596",
     "exception": false,
     "start_time": "2021-12-29T21:14:19.968732",
     "status": "completed"
    },
    "tags": []
   },
   "source": [
    "* As fare inreases, chances of survival increase"
   ]
  },
  {
   "cell_type": "code",
   "execution_count": 15,
   "id": "3afe78af",
   "metadata": {
    "execution": {
     "iopub.execute_input": "2021-12-29T21:14:20.125839Z",
     "iopub.status.busy": "2021-12-29T21:14:20.123559Z",
     "iopub.status.idle": "2021-12-29T21:14:20.562739Z",
     "shell.execute_reply": "2021-12-29T21:14:20.563232Z",
     "shell.execute_reply.started": "2021-12-29T21:12:56.543216Z"
    },
    "papermill": {
     "duration": 0.495772,
     "end_time": "2021-12-29T21:14:20.563478",
     "exception": false,
     "start_time": "2021-12-29T21:14:20.067706",
     "status": "completed"
    },
    "tags": []
   },
   "outputs": [
    {
     "data": {
      "text/plain": [
       "<AxesSubplot:xlabel='SibSp', ylabel='Survived'>"
      ]
     },
     "execution_count": 15,
     "metadata": {},
     "output_type": "execute_result"
    },
    {
     "data": {
      "image/png": "[encoded data removed]",
      "text/plain": [
       "<Figure size 432x288 with 1 Axes>"
      ]
     },
     "metadata": {
      "needs_background": "light"
     },
     "output_type": "display_data"
    }
   ],
   "source": [
    "#Does SibSp and Parch have an effect on survival?\n",
    "sns.barplot(data=train, x='SibSp',y='Survived')"
   ]
  },
  {
   "cell_type": "code",
   "execution_count": 16,
   "id": "ec9ecff0",
   "metadata": {
    "execution": {
     "iopub.execute_input": "2021-12-29T21:14:20.668127Z",
     "iopub.status.busy": "2021-12-29T21:14:20.667140Z",
     "iopub.status.idle": "2021-12-29T21:14:21.083875Z",
     "shell.execute_reply": "2021-12-29T21:14:21.083295Z",
     "shell.execute_reply.started": "2021-12-29T21:12:56.907969Z"
    },
    "papermill": {
     "duration": 0.470298,
     "end_time": "2021-12-29T21:14:21.084036",
     "exception": false,
     "start_time": "2021-12-29T21:14:20.613738",
     "status": "completed"
    },
    "tags": []
   },
   "outputs": [
    {
     "data": {
      "text/plain": [
       "<AxesSubplot:xlabel='Parch', ylabel='Survived'>"
      ]
     },
     "execution_count": 16,
     "metadata": {},
     "output_type": "execute_result"
    },
    {
     "data": {
      "image/png": "[encoded data removed]",
      "text/plain": [
       "<Figure size 432x288 with 1 Axes>"
      ]
     },
     "metadata": {
      "needs_background": "light"
     },
     "output_type": "display_data"
    }
   ],
   "source": [
    "sns.barplot(data=train, x='Parch',y='Survived')"
   ]
  },
  {
   "cell_type": "markdown",
   "id": "7158834d",
   "metadata": {
    "papermill": {
     "duration": 0.059988,
     "end_time": "2021-12-29T21:14:21.204144",
     "exception": false,
     "start_time": "2021-12-29T21:14:21.144156",
     "status": "completed"
    },
    "tags": []
   },
   "source": [
    "* From the above two graphs it is clear that having family increases chances of survival in some cases."
   ]
  },
  {
   "cell_type": "markdown",
   "id": "3826b11a",
   "metadata": {
    "papermill": {
     "duration": 0.051354,
     "end_time": "2021-12-29T21:14:21.321268",
     "exception": false,
     "start_time": "2021-12-29T21:14:21.269914",
     "status": "completed"
    },
    "tags": []
   },
   "source": [
    "# **3. Getting Numbers and Asking Questions**"
   ]
  },
  {
   "cell_type": "code",
   "execution_count": 17,
   "id": "ad415dd1",
   "metadata": {
    "execution": {
     "iopub.execute_input": "2021-12-29T21:14:21.427745Z",
     "iopub.status.busy": "2021-12-29T21:14:21.426591Z",
     "iopub.status.idle": "2021-12-29T21:14:21.435135Z",
     "shell.execute_reply": "2021-12-29T21:14:21.436114Z",
     "shell.execute_reply.started": "2021-12-29T21:12:57.245919Z"
    },
    "papermill": {
     "duration": 0.064257,
     "end_time": "2021-12-29T21:14:21.436455",
     "exception": false,
     "start_time": "2021-12-29T21:14:21.372198",
     "status": "completed"
    },
    "tags": []
   },
   "outputs": [
    {
     "name": "stdout",
     "output_type": "stream",
     "text": [
      "Survived  Pclass\n",
      "0         1          80\n",
      "          2          97\n",
      "          3         372\n",
      "1         1         136\n",
      "          2          87\n",
      "          3         119\n",
      "Name: Pclass, dtype: int64\n"
     ]
    }
   ],
   "source": [
    "#How many survived per class?\n",
    "classsurvived = train.groupby(['Survived','Pclass']).Pclass.count()\n",
    "print(classsurvived)"
   ]
  },
  {
   "cell_type": "code",
   "execution_count": 18,
   "id": "372aec4a",
   "metadata": {
    "execution": {
     "iopub.execute_input": "2021-12-29T21:14:21.545377Z",
     "iopub.status.busy": "2021-12-29T21:14:21.544713Z",
     "iopub.status.idle": "2021-12-29T21:14:21.552766Z",
     "shell.execute_reply": "2021-12-29T21:14:21.553373Z",
     "shell.execute_reply.started": "2021-12-29T21:12:57.254252Z"
    },
    "papermill": {
     "duration": 0.062875,
     "end_time": "2021-12-29T21:14:21.553586",
     "exception": false,
     "start_time": "2021-12-29T21:14:21.490711",
     "status": "completed"
    },
    "tags": []
   },
   "outputs": [
    {
     "name": "stdout",
     "output_type": "stream",
     "text": [
      "Survived\n",
      "0    26\n",
      "1    74\n",
      "Name: PassengerId, dtype: int64\n"
     ]
    }
   ],
   "source": [
    "#How many of top 100 fare purchasers survived?\n",
    "topHundred = train.nlargest(100,'Fare')\n",
    "numberSurvivedTopHundred = topHundred.groupby('Survived').PassengerId.count()\n",
    "print(numberSurvivedTopHundred)"
   ]
  },
  {
   "cell_type": "code",
   "execution_count": 19,
   "id": "ab8c1132",
   "metadata": {
    "execution": {
     "iopub.execute_input": "2021-12-29T21:14:21.661244Z",
     "iopub.status.busy": "2021-12-29T21:14:21.660596Z",
     "iopub.status.idle": "2021-12-29T21:14:21.683079Z",
     "shell.execute_reply": "2021-12-29T21:14:21.683644Z",
     "shell.execute_reply.started": "2021-12-29T21:12:57.266673Z"
    },
    "papermill": {
     "duration": 0.078698,
     "end_time": "2021-12-29T21:14:21.683853",
     "exception": false,
     "start_time": "2021-12-29T21:14:21.605155",
     "status": "completed"
    },
    "tags": []
   },
   "outputs": [
    {
     "name": "stdout",
     "output_type": "stream",
     "text": [
      "Age\n",
      "(0, 9]       62\n",
      "(9, 18]      77\n",
      "(18, 27]    198\n",
      "(27, 36]    182\n",
      "(36, 45]     92\n",
      "(45, 54]     61\n",
      "(54, 63]     29\n",
      "(63, 72]     11\n",
      "(72, 81]      2\n",
      "(81, 90]      0\n",
      "(90, 99]      0\n",
      "Name: Survived, dtype: int64\n"
     ]
    }
   ],
   "source": [
    "#how many survived per age group?\n",
    "ages = train.groupby(pd.cut(train[\"Age\"], np.arange(0, 100, 9))).Survived.count()\n",
    "print(ages)"
   ]
  },
  {
   "cell_type": "code",
   "execution_count": 20,
   "id": "8a420a81",
   "metadata": {
    "execution": {
     "iopub.execute_input": "2021-12-29T21:14:21.798833Z",
     "iopub.status.busy": "2021-12-29T21:14:21.798094Z",
     "iopub.status.idle": "2021-12-29T21:14:21.800807Z",
     "shell.execute_reply": "2021-12-29T21:14:21.801441Z",
     "shell.execute_reply.started": "2021-12-29T21:12:57.281357Z"
    },
    "papermill": {
     "duration": 0.065582,
     "end_time": "2021-12-29T21:14:21.801619",
     "exception": false,
     "start_time": "2021-12-29T21:14:21.736037",
     "status": "completed"
    },
    "tags": []
   },
   "outputs": [
    {
     "name": "stdout",
     "output_type": "stream",
     "text": [
      "% of women who survived: 0.7420382165605095\n",
      "% of men who survived: 0.18890814558058924\n"
     ]
    }
   ],
   "source": [
    "#rate of gender survival\n",
    "women = train.loc[train.Sex == 'female'][\"Survived\"]\n",
    "rate_women = sum(women)/len(women) #as 1 == survived we can sum\n",
    "\n",
    "men = train.loc[train.Sex == 'male'][\"Survived\"]\n",
    "rate_men = sum(men)/len(men)\n",
    "\n",
    "print(\"% of women who survived:\", rate_women)\n",
    "print(\"% of men who survived:\", rate_men)"
   ]
  },
  {
   "cell_type": "code",
   "execution_count": 21,
   "id": "87b44178",
   "metadata": {
    "execution": {
     "iopub.execute_input": "2021-12-29T21:14:21.913006Z",
     "iopub.status.busy": "2021-12-29T21:14:21.910916Z",
     "iopub.status.idle": "2021-12-29T21:14:21.916659Z",
     "shell.execute_reply": "2021-12-29T21:14:21.917125Z",
     "shell.execute_reply.started": "2021-12-29T21:12:57.290787Z"
    },
    "papermill": {
     "duration": 0.064189,
     "end_time": "2021-12-29T21:14:21.917323",
     "exception": false,
     "start_time": "2021-12-29T21:14:21.853134",
     "status": "completed"
    },
    "tags": []
   },
   "outputs": [
    {
     "name": "stdout",
     "output_type": "stream",
     "text": [
      "Parch  Survived\n",
      "0      0           445\n",
      "       1           233\n",
      "1      0            53\n",
      "       1            65\n",
      "2      0            40\n",
      "       1            40\n",
      "3      0             2\n",
      "       1             3\n",
      "4      0             4\n",
      "5      0             4\n",
      "       1             1\n",
      "6      0             1\n",
      "Name: PassengerId, dtype: int64\n"
     ]
    }
   ],
   "source": [
    "#How many survived depending on the number of parents/children they had aboard?\n",
    "parch = train.groupby(['Parch','Survived']).PassengerId.count()\n",
    "print(parch)\n"
   ]
  },
  {
   "cell_type": "code",
   "execution_count": 22,
   "id": "4cbdb570",
   "metadata": {
    "execution": {
     "iopub.execute_input": "2021-12-29T21:14:22.028529Z",
     "iopub.status.busy": "2021-12-29T21:14:22.027854Z",
     "iopub.status.idle": "2021-12-29T21:14:22.032780Z",
     "shell.execute_reply": "2021-12-29T21:14:22.033264Z",
     "shell.execute_reply.started": "2021-12-29T21:12:57.304844Z"
    },
    "papermill": {
     "duration": 0.064271,
     "end_time": "2021-12-29T21:14:22.033476",
     "exception": false,
     "start_time": "2021-12-29T21:14:21.969205",
     "status": "completed"
    },
    "tags": []
   },
   "outputs": [
    {
     "name": "stdout",
     "output_type": "stream",
     "text": [
      "SibSp  Survived\n",
      "0      0           398\n",
      "       1           210\n",
      "1      0            97\n",
      "       1           112\n",
      "2      0            15\n",
      "       1            13\n",
      "3      0            12\n",
      "       1             4\n",
      "4      0            15\n",
      "       1             3\n",
      "5      0             5\n",
      "8      0             7\n",
      "Name: PassengerId, dtype: int64\n"
     ]
    }
   ],
   "source": [
    "##How many survived depending on the number of siblings/spouses they had aboard?\n",
    "sibsp = train.groupby(['SibSp','Survived']).PassengerId.count()\n",
    "print(sibsp)"
   ]
  },
  {
   "cell_type": "markdown",
   "id": "3f95660d",
   "metadata": {
    "papermill": {
     "duration": 0.052361,
     "end_time": "2021-12-29T21:14:22.138970",
     "exception": false,
     "start_time": "2021-12-29T21:14:22.086609",
     "status": "completed"
    },
    "tags": []
   },
   "source": [
    "# **4.Feature engineering and Data Pre-Processing**\n",
    "* I am going to create a travelling alone variable, to combine SibSp and Parch\n",
    "* I am also going to create a first class variable, making it a 1 if you are in first class and a 0 if not. As it is clear first class has a higher chance of survival."
   ]
  },
  {
   "cell_type": "markdown",
   "id": "afa99a8e",
   "metadata": {
    "papermill": {
     "duration": 0.052588,
     "end_time": "2021-12-29T21:14:22.244342",
     "exception": false,
     "start_time": "2021-12-29T21:14:22.191754",
     "status": "completed"
    },
    "tags": []
   },
   "source": [
    "**Alternatives for feature egineering:**\n",
    "* You could create a family size variable\n",
    "* You could create a variable based on first and second class rather than just first."
   ]
  },
  {
   "cell_type": "code",
   "execution_count": 23,
   "id": "a8b0495f",
   "metadata": {
    "execution": {
     "iopub.execute_input": "2021-12-29T21:14:22.354367Z",
     "iopub.status.busy": "2021-12-29T21:14:22.353688Z",
     "iopub.status.idle": "2021-12-29T21:14:22.356299Z",
     "shell.execute_reply": "2021-12-29T21:14:22.355792Z",
     "shell.execute_reply.started": "2021-12-29T21:12:57.319155Z"
    },
    "papermill": {
     "duration": 0.059693,
     "end_time": "2021-12-29T21:14:22.356485",
     "exception": false,
     "start_time": "2021-12-29T21:14:22.296792",
     "status": "completed"
    },
    "tags": []
   },
   "outputs": [],
   "source": [
    "train_model = train #keeping copies of orignal\n",
    "test_model = test"
   ]
  },
  {
   "cell_type": "code",
   "execution_count": 24,
   "id": "74d95161",
   "metadata": {
    "execution": {
     "iopub.execute_input": "2021-12-29T21:14:22.470250Z",
     "iopub.status.busy": "2021-12-29T21:14:22.469604Z",
     "iopub.status.idle": "2021-12-29T21:14:22.474274Z",
     "shell.execute_reply": "2021-12-29T21:14:22.474871Z",
     "shell.execute_reply.started": "2021-12-29T21:12:57.327600Z"
    },
    "papermill": {
     "duration": 0.066476,
     "end_time": "2021-12-29T21:14:22.475044",
     "exception": false,
     "start_time": "2021-12-29T21:14:22.408568",
     "status": "completed"
    },
    "tags": []
   },
   "outputs": [],
   "source": [
    "#creating travelling alone variable\n",
    "train_model['TravelAlone']=np.where((train_model[\"SibSp\"]+train_model[\"Parch\"])>0, 0, 1)\n",
    "test_model['TravelAlone']=np.where((test_model[\"SibSp\"]+test_model[\"Parch\"])>0, 0, 1)\n",
    "\n",
    "#creating family size variable\n",
    "#train_model['FamilySize']= train_model['SibSp'] + train_model['Parch']\n",
    "#test_model['FamilySize']= test_model['SibSp'] + test_model['Parch']\n",
    "\n",
    "#creating first class variable\n",
    "train_model['FirstClass']=np.where((train_model[\"Pclass\"])==1, 1, 0)\n",
    "test_model['FirstClass']=np.where((test_model[\"Pclass\"])==1, 1, 0)\n",
    "\n",
    "#creating first and second class variable\n",
    "#train_model['FirstSecondClass']=np.where((train_model[\"Pclass\"])<3, 1, 0)\n",
    "#test_model['FirstSecondClass']=np.where((test_model[\"Pclass\"])<3, 1, 0)"
   ]
  },
  {
   "cell_type": "markdown",
   "id": "94e935ae",
   "metadata": {
    "papermill": {
     "duration": 0.051807,
     "end_time": "2021-12-29T21:14:22.578619",
     "exception": false,
     "start_time": "2021-12-29T21:14:22.526812",
     "status": "completed"
    },
    "tags": []
   },
   "source": [
    "**Dropping unwanted vairables**"
   ]
  },
  {
   "cell_type": "code",
   "execution_count": 25,
   "id": "83889b94",
   "metadata": {
    "execution": {
     "iopub.execute_input": "2021-12-29T21:14:22.687927Z",
     "iopub.status.busy": "2021-12-29T21:14:22.687268Z",
     "iopub.status.idle": "2021-12-29T21:14:22.706656Z",
     "shell.execute_reply": "2021-12-29T21:14:22.707218Z",
     "shell.execute_reply.started": "2021-12-29T21:12:57.343099Z"
    },
    "papermill": {
     "duration": 0.075757,
     "end_time": "2021-12-29T21:14:22.707453",
     "exception": false,
     "start_time": "2021-12-29T21:14:22.631696",
     "status": "completed"
    },
    "tags": []
   },
   "outputs": [],
   "source": [
    "train_model = train_model.drop(['Name'], axis=1)\n",
    "test_model = test_model.drop(['Name'], axis=1)\n",
    "\n",
    "train_model = train_model.drop(['SibSp'], axis=1)\n",
    "test_model = test_model.drop(['SibSp'], axis=1)\n",
    "\n",
    "train_model = train_model.drop(['Parch'], axis=1)\n",
    "test_model = test_model.drop(['Parch'], axis=1)\n",
    "\n",
    "train_model = train_model.drop(['Ticket'], axis=1)\n",
    "test_model = test_model.drop(['Ticket'], axis=1)\n",
    "\n",
    "train_model = train_model.drop(['Cabin'], axis=1)\n",
    "test_model = test_model.drop(['Cabin'], axis=1)\n",
    "\n",
    "train_model = train_model.drop(['Embarked'], axis=1)\n",
    "test_model = test_model.drop(['Embarked'], axis=1)\n",
    "\n",
    "#keep ahold of ID's for final submission\n",
    "passengerId = test_model['PassengerId']\n",
    "train_model = train_model.drop(['PassengerId'], axis=1)\n",
    "test_model = test_model.drop(['PassengerId'], axis=1)"
   ]
  },
  {
   "cell_type": "markdown",
   "id": "0bba5471",
   "metadata": {
    "papermill": {
     "duration": 0.052442,
     "end_time": "2021-12-29T21:14:22.812905",
     "exception": false,
     "start_time": "2021-12-29T21:14:22.760463",
     "status": "completed"
    },
    "tags": []
   },
   "source": [
    "**Here we create all data, a combination of the training and test data in order to do a couple of things:**\n",
    "* Get dummies on all the data so that the training and test data is consistent. We use get dummies to translate categorical variables into numerical ones.\n",
    "* Take the logarithm of fare to make it more normally distributed in our model."
   ]
  },
  {
   "cell_type": "code",
   "execution_count": 26,
   "id": "81b4c399",
   "metadata": {
    "execution": {
     "iopub.execute_input": "2021-12-29T21:14:22.922295Z",
     "iopub.status.busy": "2021-12-29T21:14:22.921617Z",
     "iopub.status.idle": "2021-12-29T21:14:23.177503Z",
     "shell.execute_reply": "2021-12-29T21:14:23.176946Z",
     "shell.execute_reply.started": "2021-12-29T21:12:57.369717Z"
    },
    "papermill": {
     "duration": 0.311891,
     "end_time": "2021-12-29T21:14:23.177662",
     "exception": false,
     "start_time": "2021-12-29T21:14:22.865771",
     "status": "completed"
    },
    "tags": []
   },
   "outputs": [
    {
     "name": "stdout",
     "output_type": "stream",
     "text": [
      "      Age      Fare  TravelAlone  FirstClass  Sex_female  Sex_male\n",
      "0    22.0  2.110213            0           0           0         1\n",
      "1    38.0  4.280593            0           1           1         0\n",
      "2    26.0  2.188856            1           0           1         0\n",
      "3    35.0  3.990834            0           1           1         0\n",
      "4    35.0  2.202765            1           0           0         1\n",
      "..    ...       ...          ...         ...         ...       ...\n",
      "413  30.0  2.202765            1           0           0         1\n",
      "414  39.0  4.699571            1           1           1         0\n",
      "415  38.5  2.110213            1           0           0         1\n",
      "416  30.0  2.202765            1           0           0         1\n",
      "417  30.0  3.150952            0           0           0         1\n",
      "\n",
      "[1309 rows x 6 columns]\n"
     ]
    },
    {
     "data": {
      "image/png": "[encoded data removed]",
      "text/plain": [
       "<Figure size 432x288 with 1 Axes>"
      ]
     },
     "metadata": {
      "needs_background": "light"
     },
     "output_type": "display_data"
    }
   ],
   "source": [
    "#concatenate the data as processing it together is easier \n",
    "\n",
    "all_data = pd.concat((train_model.loc[:,'Sex':'FirstClass'], #\n",
    "                      test_model.loc[:,'Sex':'FirstClass'])) #\n",
    "\n",
    "all_data = pd.get_dummies(all_data)\n",
    "\n",
    "\n",
    "all_data = all_data.fillna(all_data.mean().round(0)) #only age has null values - so we will fill it with its mean as it is normally distributed\n",
    "\n",
    "#taking the log of fare to make it more normally distributed\n",
    "all_data['Fare'] = np.log(all_data.Fare+1)\n",
    "all_data['Fare'].hist()\n",
    "\n",
    "print(all_data)"
   ]
  },
  {
   "cell_type": "markdown",
   "id": "65912dcd",
   "metadata": {
    "papermill": {
     "duration": 0.053256,
     "end_time": "2021-12-29T21:14:23.284496",
     "exception": false,
     "start_time": "2021-12-29T21:14:23.231240",
     "status": "completed"
    },
    "tags": []
   },
   "source": [
    "**Splitting into test and train**"
   ]
  },
  {
   "cell_type": "code",
   "execution_count": 27,
   "id": "a9a011f6",
   "metadata": {
    "execution": {
     "iopub.execute_input": "2021-12-29T21:14:23.405143Z",
     "iopub.status.busy": "2021-12-29T21:14:23.404457Z",
     "iopub.status.idle": "2021-12-29T21:14:23.408404Z",
     "shell.execute_reply": "2021-12-29T21:14:23.407618Z",
     "shell.execute_reply.started": "2021-12-29T21:12:57.588478Z"
    },
    "papermill": {
     "duration": 0.070052,
     "end_time": "2021-12-29T21:14:23.408632",
     "exception": false,
     "start_time": "2021-12-29T21:14:23.338580",
     "status": "completed"
    },
    "tags": []
   },
   "outputs": [
    {
     "name": "stdout",
     "output_type": "stream",
     "text": [
      "      Age      Fare  TravelAlone  FirstClass  Sex_female  Sex_male\n",
      "0    22.0  2.110213            0           0           0         1\n",
      "1    38.0  4.280593            0           1           1         0\n",
      "2    26.0  2.188856            1           0           1         0\n",
      "3    35.0  3.990834            0           1           1         0\n",
      "4    35.0  2.202765            1           0           0         1\n",
      "..    ...       ...          ...         ...         ...       ...\n",
      "886  27.0  2.639057            1           0           0         1\n",
      "887  19.0  3.433987            1           1           1         0\n",
      "888  30.0  3.196630            0           0           1         0\n",
      "889  26.0  3.433987            1           1           0         1\n",
      "890  32.0  2.169054            1           0           0         1\n",
      "\n",
      "[891 rows x 6 columns]\n"
     ]
    }
   ],
   "source": [
    "X_train = all_data[:train.shape[0]]\n",
    "X_test = all_data[train.shape[0]:]\n",
    "\n",
    "y = train.Survived\n",
    "print(X_train)"
   ]
  },
  {
   "cell_type": "markdown",
   "id": "77c75833",
   "metadata": {
    "papermill": {
     "duration": 0.052862,
     "end_time": "2021-12-29T21:14:23.516151",
     "exception": false,
     "start_time": "2021-12-29T21:14:23.463289",
     "status": "completed"
    },
    "tags": []
   },
   "source": [
    "# **5. Creating our Logistic Regression Model**"
   ]
  },
  {
   "cell_type": "code",
   "execution_count": 28,
   "id": "e5161eea",
   "metadata": {
    "execution": {
     "iopub.execute_input": "2021-12-29T21:14:23.632150Z",
     "iopub.status.busy": "2021-12-29T21:14:23.631458Z",
     "iopub.status.idle": "2021-12-29T21:14:24.035725Z",
     "shell.execute_reply": "2021-12-29T21:14:24.035094Z",
     "shell.execute_reply.started": "2021-12-29T21:13:33.420045Z"
    },
    "papermill": {
     "duration": 0.465899,
     "end_time": "2021-12-29T21:14:24.035877",
     "exception": false,
     "start_time": "2021-12-29T21:14:23.569978",
     "status": "completed"
    },
    "tags": []
   },
   "outputs": [
    {
     "name": "stdout",
     "output_type": "stream",
     "text": [
      "     PassengerId  Survived\n",
      "0            892         0\n",
      "1            893         0\n",
      "2            894         0\n",
      "3            895         0\n",
      "4            896         1\n",
      "..           ...       ...\n",
      "413         1305         0\n",
      "414         1306         1\n",
      "415         1307         0\n",
      "416         1308         0\n",
      "417         1309         0\n",
      "\n",
      "[418 rows x 2 columns]\n"
     ]
    }
   ],
   "source": [
    "#Using logistic Regression Model\n",
    "from sklearn.linear_model import LogisticRegression\n",
    "\n",
    "lgr = LogisticRegression()\n",
    "lgr.fit(X_train, y)\n",
    "LR_pred = lgr.predict(X_test)\n",
    "\n",
    "submission = test_model\n",
    "\n",
    "submission['PassengerId'] = passengerId\n",
    "submission['Survived'] = LR_pred\n",
    "\n",
    "submission = submission.drop(['Pclass'], axis=1)\n",
    "submission = submission.drop(['Sex'], axis=1)\n",
    "submission = submission.drop(['Age'], axis=1)\n",
    "submission = submission.drop(['Fare'], axis=1)\n",
    "\n",
    "submission = submission[['PassengerId','Survived']]\n",
    "\n",
    "print(submission)\n",
    "submission.to_csv('submission.csv', index = False)"
   ]
  }
 ],
 "metadata": {
  "kernelspec": {
   "display_name": "Python 3",
   "language": "python",
   "name": "python3"
  },
  "language_info": {
   "codemirror_mode": {
    "name": "ipython",
    "version": 3
   },
   "file_extension": ".py",
   "mimetype": "text/x-python",
   "name": "python",
   "nbconvert_exporter": "python",
   "pygments_lexer": "ipython3",
   "version": "3.7.12"
  },
  "papermill": {
   "default_parameters": {},
   "duration": 24.271241,
   "end_time": "2021-12-29T21:14:25.003050",
   "environment_variables": {},
   "exception": null,
   "input_path": "__notebook__.ipynb",
   "output_path": "__notebook__.ipynb",
   "parameters": {},
   "start_time": "2021-12-29T21:14:00.731809",
   "version": "2.3.3"
  }
 },
 "nbformat": 4,
 "nbformat_minor": 5
}
